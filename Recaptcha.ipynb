{
 "cells": [
  {
   "cell_type": "code",
   "execution_count": 4,
   "metadata": {
    "scrolled": false
   },
   "outputs": [
    {
     "name": "stdout",
     "output_type": "stream",
     "text": [
      "Found 2001 images belonging to 2 classes.\n",
      "Found 802 images belonging to 2 classes.\n",
      "Epoch 1/50\n",
      "125/125 [==============================] - 28s 226ms/step - loss: 0.7223 - accuracy: 0.5380 - val_loss: 0.6797 - val_accuracy: 0.5688\n",
      "Epoch 2/50\n",
      "125/125 [==============================] - 28s 226ms/step - loss: 0.6809 - accuracy: 0.5950 - val_loss: 0.6955 - val_accuracy: 0.6667\n",
      "Epoch 3/50\n",
      "125/125 [==============================] - 26s 208ms/step - loss: 0.6628 - accuracy: 0.6358 - val_loss: 0.5541 - val_accuracy: 0.6679\n",
      "Epoch 4/50\n",
      "125/125 [==============================] - 25s 199ms/step - loss: 0.6259 - accuracy: 0.6564 - val_loss: 0.4899 - val_accuracy: 0.6616\n",
      "Epoch 5/50\n",
      "125/125 [==============================] - 24s 193ms/step - loss: 0.5970 - accuracy: 0.6902 - val_loss: 0.5595 - val_accuracy: 0.7163\n",
      "Epoch 6/50\n",
      "125/125 [==============================] - 24s 193ms/step - loss: 0.5687 - accuracy: 0.7144 - val_loss: 0.8590 - val_accuracy: 0.5802\n",
      "Epoch 7/50\n",
      "125/125 [==============================] - 24s 191ms/step - loss: 0.5831 - accuracy: 0.7144 - val_loss: 0.7609 - val_accuracy: 0.7392\n",
      "Epoch 8/50\n",
      "125/125 [==============================] - 24s 189ms/step - loss: 0.5688 - accuracy: 0.7083 - val_loss: 0.6354 - val_accuracy: 0.7455\n",
      "Epoch 9/50\n",
      "125/125 [==============================] - 25s 197ms/step - loss: 0.5456 - accuracy: 0.7416 - val_loss: 0.3504 - val_accuracy: 0.7214\n",
      "Epoch 10/50\n",
      "125/125 [==============================] - 24s 192ms/step - loss: 0.5513 - accuracy: 0.7300 - val_loss: 0.4888 - val_accuracy: 0.7074\n",
      "Epoch 11/50\n",
      "125/125 [==============================] - 24s 190ms/step - loss: 0.5333 - accuracy: 0.7496 - val_loss: 0.7203 - val_accuracy: 0.7087\n",
      "Epoch 12/50\n",
      "125/125 [==============================] - 24s 192ms/step - loss: 0.5274 - accuracy: 0.7516 - val_loss: 0.4889 - val_accuracy: 0.6921\n",
      "Epoch 13/50\n",
      "125/125 [==============================] - 23s 186ms/step - loss: 0.5361 - accuracy: 0.7461 - val_loss: 0.5695 - val_accuracy: 0.7405\n",
      "Epoch 14/50\n",
      "125/125 [==============================] - 23s 186ms/step - loss: 0.4846 - accuracy: 0.7607 - val_loss: 0.4664 - val_accuracy: 0.7328\n",
      "Epoch 15/50\n",
      "125/125 [==============================] - 24s 191ms/step - loss: 0.5024 - accuracy: 0.7683 - val_loss: 0.7710 - val_accuracy: 0.7239\n",
      "Epoch 16/50\n",
      "125/125 [==============================] - 23s 187ms/step - loss: 0.4914 - accuracy: 0.7788 - val_loss: 1.0451 - val_accuracy: 0.6463\n",
      "Epoch 17/50\n",
      "125/125 [==============================] - 23s 186ms/step - loss: 0.4916 - accuracy: 0.7642 - val_loss: 0.3151 - val_accuracy: 0.7265\n",
      "Epoch 18/50\n",
      "125/125 [==============================] - 24s 189ms/step - loss: 0.4750 - accuracy: 0.7819 - val_loss: 0.4487 - val_accuracy: 0.7405\n",
      "Epoch 19/50\n",
      "125/125 [==============================] - 23s 185ms/step - loss: 0.4831 - accuracy: 0.7768 - val_loss: 0.2439 - val_accuracy: 0.7366\n",
      "Epoch 20/50\n",
      "125/125 [==============================] - 23s 184ms/step - loss: 0.4531 - accuracy: 0.7924 - val_loss: 0.9222 - val_accuracy: 0.7239\n",
      "Epoch 21/50\n",
      "125/125 [==============================] - 24s 190ms/step - loss: 0.4549 - accuracy: 0.8015 - val_loss: 0.5505 - val_accuracy: 0.7468\n",
      "Epoch 22/50\n",
      "125/125 [==============================] - 23s 182ms/step - loss: 0.4373 - accuracy: 0.8061 - val_loss: 0.3476 - val_accuracy: 0.7455\n",
      "Epoch 23/50\n",
      "125/125 [==============================] - 23s 186ms/step - loss: 0.4721 - accuracy: 0.7795 - val_loss: 0.6270 - val_accuracy: 0.7137\n",
      "Epoch 24/50\n",
      "125/125 [==============================] - 24s 193ms/step - loss: 0.4532 - accuracy: 0.8081 - val_loss: 0.9013 - val_accuracy: 0.7163\n",
      "Epoch 25/50\n",
      "125/125 [==============================] - 25s 200ms/step - loss: 0.4629 - accuracy: 0.7965 - val_loss: 0.4203 - val_accuracy: 0.6972\n",
      "Epoch 26/50\n",
      "125/125 [==============================] - 25s 201ms/step - loss: 0.4468 - accuracy: 0.8030 - val_loss: 0.4116 - val_accuracy: 0.7761\n",
      "Epoch 27/50\n",
      "125/125 [==============================] - 26s 207ms/step - loss: 0.4466 - accuracy: 0.8060 - val_loss: 0.5508 - val_accuracy: 0.7099\n",
      "Epoch 28/50\n",
      "125/125 [==============================] - 25s 199ms/step - loss: 0.4334 - accuracy: 0.8060 - val_loss: 0.5477 - val_accuracy: 0.7545\n",
      "Epoch 29/50\n",
      "125/125 [==============================] - 27s 214ms/step - loss: 0.4398 - accuracy: 0.8076 - val_loss: 0.3113 - val_accuracy: 0.7468\n",
      "Epoch 30/50\n",
      "125/125 [==============================] - 26s 209ms/step - loss: 0.4419 - accuracy: 0.8000 - val_loss: 0.5878 - val_accuracy: 0.7328\n",
      "Epoch 31/50\n",
      "125/125 [==============================] - 24s 189ms/step - loss: 0.4575 - accuracy: 0.8065 - val_loss: 0.2952 - val_accuracy: 0.7494\n",
      "Epoch 32/50\n",
      "125/125 [==============================] - 25s 202ms/step - loss: 0.4205 - accuracy: 0.8207 - val_loss: 0.5781 - val_accuracy: 0.7608\n",
      "Epoch 33/50\n",
      "125/125 [==============================] - 25s 203ms/step - loss: 0.4401 - accuracy: 0.8060 - val_loss: 0.7429 - val_accuracy: 0.6959\n",
      "Epoch 34/50\n",
      "125/125 [==============================] - 25s 202ms/step - loss: 0.4375 - accuracy: 0.8171 - val_loss: 0.2640 - val_accuracy: 0.7481\n",
      "Epoch 35/50\n",
      "125/125 [==============================] - 26s 205ms/step - loss: 0.4244 - accuracy: 0.8252 - val_loss: 2.1951 - val_accuracy: 0.7392\n",
      "Epoch 36/50\n",
      "125/125 [==============================] - 25s 197ms/step - loss: 0.4252 - accuracy: 0.8121 - val_loss: 0.3796 - val_accuracy: 0.7494\n",
      "Epoch 37/50\n",
      "125/125 [==============================] - 23s 187ms/step - loss: 0.3967 - accuracy: 0.8302 - val_loss: 0.6794 - val_accuracy: 0.7506\n",
      "Epoch 38/50\n",
      "125/125 [==============================] - 24s 190ms/step - loss: 0.4361 - accuracy: 0.8111 - val_loss: 0.8867 - val_accuracy: 0.7494\n",
      "Epoch 39/50\n",
      "125/125 [==============================] - 25s 203ms/step - loss: 0.4047 - accuracy: 0.8145 - val_loss: 0.2653 - val_accuracy: 0.7392\n",
      "Epoch 40/50\n",
      "125/125 [==============================] - 25s 198ms/step - loss: 0.4298 - accuracy: 0.8237 - val_loss: 0.3829 - val_accuracy: 0.7634\n",
      "Epoch 41/50\n",
      "125/125 [==============================] - 25s 201ms/step - loss: 0.4264 - accuracy: 0.8228 - val_loss: 0.3949 - val_accuracy: 0.7621\n",
      "Epoch 42/50\n",
      "125/125 [==============================] - 25s 197ms/step - loss: 0.4002 - accuracy: 0.8277 - val_loss: 0.3602 - val_accuracy: 0.7099\n",
      "Epoch 43/50\n",
      "125/125 [==============================] - 24s 191ms/step - loss: 0.4110 - accuracy: 0.8235 - val_loss: 1.0100 - val_accuracy: 0.7354\n",
      "Epoch 44/50\n",
      "125/125 [==============================] - 24s 192ms/step - loss: 0.4096 - accuracy: 0.8297 - val_loss: 0.7247 - val_accuracy: 0.7646\n",
      "Epoch 45/50\n",
      "125/125 [==============================] - 24s 192ms/step - loss: 0.4279 - accuracy: 0.8202 - val_loss: 1.1758 - val_accuracy: 0.7710\n",
      "Epoch 46/50\n",
      "125/125 [==============================] - 24s 190ms/step - loss: 0.4367 - accuracy: 0.8181 - val_loss: 0.6142 - val_accuracy: 0.7786\n",
      "Epoch 47/50\n",
      "125/125 [==============================] - 24s 191ms/step - loss: 0.4206 - accuracy: 0.8257 - val_loss: 0.5171 - val_accuracy: 0.7774\n",
      "Epoch 48/50\n",
      "125/125 [==============================] - 24s 189ms/step - loss: 0.4337 - accuracy: 0.8228 - val_loss: 0.4282 - val_accuracy: 0.7506\n",
      "Epoch 49/50\n",
      "125/125 [==============================] - 24s 193ms/step - loss: 0.4591 - accuracy: 0.8115 - val_loss: 0.2536 - val_accuracy: 0.7761\n",
      "Epoch 50/50\n",
      "125/125 [==============================] - 24s 194ms/step - loss: 0.4484 - accuracy: 0.8173 - val_loss: 0.4897 - val_accuracy: 0.7684\n"
     ]
    }
   ],
   "source": [
    "from keras.preprocessing.image import ImageDataGenerator\n",
    "from keras.models import Sequential\n",
    "from keras.layers import Conv2D, MaxPooling2D\n",
    "from keras.layers import Activation, Dropout, Flatten, Dense\n",
    "from keras import backend as B\n",
    "\n",
    "width, height = 150, 150\n",
    "\n",
    "train_data_dir = 'data/train'\n",
    "validation_data_dir = 'data/validation'\n",
    "nb_train_samples = 2000\n",
    "nb_validation_samples = 800\n",
    "epochs = 50\n",
    "batch_size = 16\n",
    "\n",
    "if B.image_data_format() == 'channels_first':\n",
    "    input_shape = (3, width, img_height)\n",
    "else:\n",
    "    input_shape = (width, height, 3)\n",
    "\n",
    "model = Sequential()\n",
    "model.add(Conv2D(32, (3, 3), input_shape=input_shape))\n",
    "model.add(Activation('relu'))\n",
    "model.add(MaxPooling2D(pool_size=(2, 2)))\n",
    "\n",
    "model.add(Conv2D(32, (3, 3)))\n",
    "model.add(Activation('relu'))\n",
    "model.add(MaxPooling2D(pool_size=(2, 2)))\n",
    "\n",
    "model.add(Conv2D(64, (3, 3)))\n",
    "model.add(Activation('relu'))\n",
    "model.add(MaxPooling2D(pool_size=(2, 2)))\n",
    "\n",
    "model.add(Flatten())\n",
    "model.add(Dense(64))\n",
    "model.add(Activation('relu'))\n",
    "model.add(Dropout(0.5))\n",
    "model.add(Dense(1))\n",
    "model.add(Activation('sigmoid'))\n",
    "\n",
    "model.compile(loss='binary_crossentropy',\n",
    "              optimizer='rmsprop',\n",
    "              metrics=['accuracy'])\n",
    "\n",
    "train_datagen = ImageDataGenerator(\n",
    "    rescale=1. / 255,\n",
    "    shear_range=0.2,\n",
    "    zoom_range=0.2,\n",
    "    horizontal_flip=True)\n",
    "\n",
    "test_datagen = ImageDataGenerator(rescale=1. / 255)\n",
    "\n",
    "train_generator = train_datagen.flow_from_directory(\n",
    "    train_data_dir,\n",
    "    target_size=(width, height),\n",
    "    batch_size=batch_size,\n",
    "    class_mode='binary')\n",
    "\n",
    "validation_generator = test_datagen.flow_from_directory(\n",
    "    validation_data_dir,\n",
    "    target_size=(width, height),\n",
    "    batch_size=batch_size,\n",
    "    class_mode='binary')\n",
    "\n",
    "model.fit_generator(\n",
    "    train_generator,\n",
    "    steps_per_epoch=nb_train_samples // batch_size,\n",
    "    epochs=epochs,\n",
    "    validation_data=validation_generator,\n",
    "    validation_steps=nb_validation_samples // batch_size)\n",
    "\n",
    "model.save('train_data.h5')"
   ]
  },
  {
   "cell_type": "code",
   "execution_count": 2,
   "metadata": {
    "scrolled": true
   },
   "outputs": [
    {
     "name": "stdout",
     "output_type": "stream",
     "text": [
      "Found 2 images belonging to 2 classes.\n"
     ]
    }
   ],
   "source": [
    "image_data_dir = 'data/images'\n",
    "test_val_datagen = ImageDataGenerator(rescale=1. / 255)\n",
    "\n",
    "test_val_generator = test_val_datagen.flow_from_directory(\n",
    "    image_data_dir,\n",
    "    target_size=(150, 150),\n",
    "    batch_size=16,\n",
    "    class_mode='binary')"
   ]
  },
  {
   "cell_type": "code",
   "execution_count": 58,
   "metadata": {},
   "outputs": [],
   "source": [
    "yhat = model.predict(test_val_generator)"
   ]
  },
  {
   "cell_type": "code",
   "execution_count": 60,
   "metadata": {
    "scrolled": true
   },
   "outputs": [
    {
     "name": "stdout",
     "output_type": "stream",
     "text": [
      "[[0.5793297]\n",
      " [0.4251811]]\n"
     ]
    }
   ],
   "source": [
    "print (model.predict(test_val_generator))"
   ]
  },
  {
   "cell_type": "code",
   "execution_count": 52,
   "metadata": {},
   "outputs": [
    {
     "name": "stdout",
     "output_type": "stream",
     "text": [
      "51\n"
     ]
    }
   ],
   "source": [
    "result_t = []\n",
    "for k in range(51):\n",
    "    result_t.append(yhat[k])\n",
    "\n",
    "print(len(result_t))"
   ]
  },
  {
   "cell_type": "code",
   "execution_count": 53,
   "metadata": {},
   "outputs": [],
   "source": [
    "from sklearn.metrics import f1_score"
   ]
  },
  {
   "cell_type": "code",
   "execution_count": 54,
   "metadata": {},
   "outputs": [],
   "source": [
    "y_true = validation_generator\n",
    "y_pred = yhat"
   ]
  },
  {
   "cell_type": "code",
   "execution_count": 56,
   "metadata": {
    "scrolled": true
   },
   "outputs": [
    {
     "ename": "ValueError",
     "evalue": "Expected array-like (array or non-string sequence), got <keras.preprocessing.image.DirectoryIterator object at 0x0000020F08B1D3C8>",
     "output_type": "error",
     "traceback": [
      "\u001b[1;31m---------------------------------------------------------------------------\u001b[0m",
      "\u001b[1;31mValueError\u001b[0m                                Traceback (most recent call last)",
      "\u001b[1;32m<ipython-input-56-cbbdb823927e>\u001b[0m in \u001b[0;36m<module>\u001b[1;34m\u001b[0m\n\u001b[1;32m----> 1\u001b[1;33m \u001b[0mf1_score\u001b[0m\u001b[1;33m(\u001b[0m\u001b[0my_true\u001b[0m\u001b[1;33m,\u001b[0m \u001b[0mresult_t\u001b[0m\u001b[1;33m,\u001b[0m \u001b[0maverage\u001b[0m\u001b[1;33m=\u001b[0m\u001b[1;34m'macro'\u001b[0m\u001b[1;33m)\u001b[0m\u001b[1;33m\u001b[0m\u001b[1;33m\u001b[0m\u001b[0m\n\u001b[0m",
      "\u001b[1;32m~\\Anaconda3\\lib\\site-packages\\sklearn\\metrics\\_classification.py\u001b[0m in \u001b[0;36mf1_score\u001b[1;34m(y_true, y_pred, labels, pos_label, average, sample_weight, zero_division)\u001b[0m\n\u001b[0;32m   1097\u001b[0m                        \u001b[0mpos_label\u001b[0m\u001b[1;33m=\u001b[0m\u001b[0mpos_label\u001b[0m\u001b[1;33m,\u001b[0m \u001b[0maverage\u001b[0m\u001b[1;33m=\u001b[0m\u001b[0maverage\u001b[0m\u001b[1;33m,\u001b[0m\u001b[1;33m\u001b[0m\u001b[1;33m\u001b[0m\u001b[0m\n\u001b[0;32m   1098\u001b[0m                        \u001b[0msample_weight\u001b[0m\u001b[1;33m=\u001b[0m\u001b[0msample_weight\u001b[0m\u001b[1;33m,\u001b[0m\u001b[1;33m\u001b[0m\u001b[1;33m\u001b[0m\u001b[0m\n\u001b[1;32m-> 1099\u001b[1;33m                        zero_division=zero_division)\n\u001b[0m\u001b[0;32m   1100\u001b[0m \u001b[1;33m\u001b[0m\u001b[0m\n\u001b[0;32m   1101\u001b[0m \u001b[1;33m\u001b[0m\u001b[0m\n",
      "\u001b[1;32m~\\Anaconda3\\lib\\site-packages\\sklearn\\metrics\\_classification.py\u001b[0m in \u001b[0;36mfbeta_score\u001b[1;34m(y_true, y_pred, beta, labels, pos_label, average, sample_weight, zero_division)\u001b[0m\n\u001b[0;32m   1224\u001b[0m                                                  \u001b[0mwarn_for\u001b[0m\u001b[1;33m=\u001b[0m\u001b[1;33m(\u001b[0m\u001b[1;34m'f-score'\u001b[0m\u001b[1;33m,\u001b[0m\u001b[1;33m)\u001b[0m\u001b[1;33m,\u001b[0m\u001b[1;33m\u001b[0m\u001b[1;33m\u001b[0m\u001b[0m\n\u001b[0;32m   1225\u001b[0m                                                  \u001b[0msample_weight\u001b[0m\u001b[1;33m=\u001b[0m\u001b[0msample_weight\u001b[0m\u001b[1;33m,\u001b[0m\u001b[1;33m\u001b[0m\u001b[1;33m\u001b[0m\u001b[0m\n\u001b[1;32m-> 1226\u001b[1;33m                                                  zero_division=zero_division)\n\u001b[0m\u001b[0;32m   1227\u001b[0m     \u001b[1;32mreturn\u001b[0m \u001b[0mf\u001b[0m\u001b[1;33m\u001b[0m\u001b[1;33m\u001b[0m\u001b[0m\n\u001b[0;32m   1228\u001b[0m \u001b[1;33m\u001b[0m\u001b[0m\n",
      "\u001b[1;32m~\\Anaconda3\\lib\\site-packages\\sklearn\\metrics\\_classification.py\u001b[0m in \u001b[0;36mprecision_recall_fscore_support\u001b[1;34m(y_true, y_pred, beta, labels, pos_label, average, warn_for, sample_weight, zero_division)\u001b[0m\n\u001b[0;32m   1482\u001b[0m         \u001b[1;32mraise\u001b[0m \u001b[0mValueError\u001b[0m\u001b[1;33m(\u001b[0m\u001b[1;34m\"beta should be >=0 in the F-beta score\"\u001b[0m\u001b[1;33m)\u001b[0m\u001b[1;33m\u001b[0m\u001b[1;33m\u001b[0m\u001b[0m\n\u001b[0;32m   1483\u001b[0m     labels = _check_set_wise_labels(y_true, y_pred, average, labels,\n\u001b[1;32m-> 1484\u001b[1;33m                                     pos_label)\n\u001b[0m\u001b[0;32m   1485\u001b[0m \u001b[1;33m\u001b[0m\u001b[0m\n\u001b[0;32m   1486\u001b[0m     \u001b[1;31m# Calculate tp_sum, pred_sum, true_sum ###\u001b[0m\u001b[1;33m\u001b[0m\u001b[1;33m\u001b[0m\u001b[1;33m\u001b[0m\u001b[0m\n",
      "\u001b[1;32m~\\Anaconda3\\lib\\site-packages\\sklearn\\metrics\\_classification.py\u001b[0m in \u001b[0;36m_check_set_wise_labels\u001b[1;34m(y_true, y_pred, average, labels, pos_label)\u001b[0m\n\u001b[0;32m   1299\u001b[0m                          str(average_options))\n\u001b[0;32m   1300\u001b[0m \u001b[1;33m\u001b[0m\u001b[0m\n\u001b[1;32m-> 1301\u001b[1;33m     \u001b[0my_type\u001b[0m\u001b[1;33m,\u001b[0m \u001b[0my_true\u001b[0m\u001b[1;33m,\u001b[0m \u001b[0my_pred\u001b[0m \u001b[1;33m=\u001b[0m \u001b[0m_check_targets\u001b[0m\u001b[1;33m(\u001b[0m\u001b[0my_true\u001b[0m\u001b[1;33m,\u001b[0m \u001b[0my_pred\u001b[0m\u001b[1;33m)\u001b[0m\u001b[1;33m\u001b[0m\u001b[1;33m\u001b[0m\u001b[0m\n\u001b[0m\u001b[0;32m   1302\u001b[0m     \u001b[0mpresent_labels\u001b[0m \u001b[1;33m=\u001b[0m \u001b[0munique_labels\u001b[0m\u001b[1;33m(\u001b[0m\u001b[0my_true\u001b[0m\u001b[1;33m,\u001b[0m \u001b[0my_pred\u001b[0m\u001b[1;33m)\u001b[0m\u001b[1;33m\u001b[0m\u001b[1;33m\u001b[0m\u001b[0m\n\u001b[0;32m   1303\u001b[0m     \u001b[1;32mif\u001b[0m \u001b[0maverage\u001b[0m \u001b[1;33m==\u001b[0m \u001b[1;34m'binary'\u001b[0m\u001b[1;33m:\u001b[0m\u001b[1;33m\u001b[0m\u001b[1;33m\u001b[0m\u001b[0m\n",
      "\u001b[1;32m~\\Anaconda3\\lib\\site-packages\\sklearn\\metrics\\_classification.py\u001b[0m in \u001b[0;36m_check_targets\u001b[1;34m(y_true, y_pred)\u001b[0m\n\u001b[0;32m     79\u001b[0m     \"\"\"\n\u001b[0;32m     80\u001b[0m     \u001b[0mcheck_consistent_length\u001b[0m\u001b[1;33m(\u001b[0m\u001b[0my_true\u001b[0m\u001b[1;33m,\u001b[0m \u001b[0my_pred\u001b[0m\u001b[1;33m)\u001b[0m\u001b[1;33m\u001b[0m\u001b[1;33m\u001b[0m\u001b[0m\n\u001b[1;32m---> 81\u001b[1;33m     \u001b[0mtype_true\u001b[0m \u001b[1;33m=\u001b[0m \u001b[0mtype_of_target\u001b[0m\u001b[1;33m(\u001b[0m\u001b[0my_true\u001b[0m\u001b[1;33m)\u001b[0m\u001b[1;33m\u001b[0m\u001b[1;33m\u001b[0m\u001b[0m\n\u001b[0m\u001b[0;32m     82\u001b[0m     \u001b[0mtype_pred\u001b[0m \u001b[1;33m=\u001b[0m \u001b[0mtype_of_target\u001b[0m\u001b[1;33m(\u001b[0m\u001b[0my_pred\u001b[0m\u001b[1;33m)\u001b[0m\u001b[1;33m\u001b[0m\u001b[1;33m\u001b[0m\u001b[0m\n\u001b[0;32m     83\u001b[0m \u001b[1;33m\u001b[0m\u001b[0m\n",
      "\u001b[1;32m~\\Anaconda3\\lib\\site-packages\\sklearn\\utils\\multiclass.py\u001b[0m in \u001b[0;36mtype_of_target\u001b[1;34m(y)\u001b[0m\n\u001b[0;32m    239\u001b[0m     \u001b[1;32mif\u001b[0m \u001b[1;32mnot\u001b[0m \u001b[0mvalid\u001b[0m\u001b[1;33m:\u001b[0m\u001b[1;33m\u001b[0m\u001b[1;33m\u001b[0m\u001b[0m\n\u001b[0;32m    240\u001b[0m         raise ValueError('Expected array-like (array or non-string sequence), '\n\u001b[1;32m--> 241\u001b[1;33m                          'got %r' % y)\n\u001b[0m\u001b[0;32m    242\u001b[0m \u001b[1;33m\u001b[0m\u001b[0m\n\u001b[0;32m    243\u001b[0m     \u001b[0msparse_pandas\u001b[0m \u001b[1;33m=\u001b[0m \u001b[1;33m(\u001b[0m\u001b[0my\u001b[0m\u001b[1;33m.\u001b[0m\u001b[0m__class__\u001b[0m\u001b[1;33m.\u001b[0m\u001b[0m__name__\u001b[0m \u001b[1;32min\u001b[0m \u001b[1;33m[\u001b[0m\u001b[1;34m'SparseSeries'\u001b[0m\u001b[1;33m,\u001b[0m \u001b[1;34m'SparseArray'\u001b[0m\u001b[1;33m]\u001b[0m\u001b[1;33m)\u001b[0m\u001b[1;33m\u001b[0m\u001b[1;33m\u001b[0m\u001b[0m\n",
      "\u001b[1;31mValueError\u001b[0m: Expected array-like (array or non-string sequence), got <keras.preprocessing.image.DirectoryIterator object at 0x0000020F08B1D3C8>"
     ]
    }
   ],
   "source": [
    " f1_score(y_true, result_t, average='macro')"
   ]
  },
  {
   "cell_type": "code",
   "execution_count": null,
   "metadata": {},
   "outputs": [],
   "source": []
  }
 ],
 "metadata": {
  "kernelspec": {
   "display_name": "Python 3",
   "language": "python",
   "name": "python3"
  },
  "language_info": {
   "codemirror_mode": {
    "name": "ipython",
    "version": 3
   },
   "file_extension": ".py",
   "mimetype": "text/x-python",
   "name": "python",
   "nbconvert_exporter": "python",
   "pygments_lexer": "ipython3",
   "version": "3.7.6"
  }
 },
 "nbformat": 4,
 "nbformat_minor": 4
}
